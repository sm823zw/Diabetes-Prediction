{
 "cells": [
  {
   "cell_type": "code",
   "execution_count": 23,
   "metadata": {},
   "outputs": [],
   "source": [
    "import numpy as np\r\n",
    "import seaborn as sns\r\n",
    "import pandas as pd\r\n",
    "import tensorflow as tf\r\n",
    "import matplotlib.pyplot as plt"
   ]
  },
  {
   "cell_type": "code",
   "execution_count": 2,
   "metadata": {},
   "outputs": [],
   "source": [
    "df = pd.read_csv('diabetes2.csv')"
   ]
  },
  {
   "cell_type": "code",
   "execution_count": 3,
   "metadata": {},
   "outputs": [
    {
     "data": {
      "text/html": [
       "<div>\n",
       "<style scoped>\n",
       "    .dataframe tbody tr th:only-of-type {\n",
       "        vertical-align: middle;\n",
       "    }\n",
       "\n",
       "    .dataframe tbody tr th {\n",
       "        vertical-align: top;\n",
       "    }\n",
       "\n",
       "    .dataframe thead th {\n",
       "        text-align: right;\n",
       "    }\n",
       "</style>\n",
       "<table border=\"1\" class=\"dataframe\">\n",
       "  <thead>\n",
       "    <tr style=\"text-align: right;\">\n",
       "      <th></th>\n",
       "      <th>Pregnancies</th>\n",
       "      <th>Glucose</th>\n",
       "      <th>BloodPressure</th>\n",
       "      <th>SkinThickness</th>\n",
       "      <th>Insulin</th>\n",
       "      <th>BMI</th>\n",
       "      <th>DiabetesPedigreeFunction</th>\n",
       "      <th>Age</th>\n",
       "      <th>Outcome</th>\n",
       "    </tr>\n",
       "  </thead>\n",
       "  <tbody>\n",
       "    <tr>\n",
       "      <th>0</th>\n",
       "      <td>6</td>\n",
       "      <td>148</td>\n",
       "      <td>72</td>\n",
       "      <td>35</td>\n",
       "      <td>0</td>\n",
       "      <td>33.6</td>\n",
       "      <td>0.627</td>\n",
       "      <td>50</td>\n",
       "      <td>1</td>\n",
       "    </tr>\n",
       "    <tr>\n",
       "      <th>1</th>\n",
       "      <td>1</td>\n",
       "      <td>85</td>\n",
       "      <td>66</td>\n",
       "      <td>29</td>\n",
       "      <td>0</td>\n",
       "      <td>26.6</td>\n",
       "      <td>0.351</td>\n",
       "      <td>31</td>\n",
       "      <td>0</td>\n",
       "    </tr>\n",
       "    <tr>\n",
       "      <th>2</th>\n",
       "      <td>8</td>\n",
       "      <td>183</td>\n",
       "      <td>64</td>\n",
       "      <td>0</td>\n",
       "      <td>0</td>\n",
       "      <td>23.3</td>\n",
       "      <td>0.672</td>\n",
       "      <td>32</td>\n",
       "      <td>1</td>\n",
       "    </tr>\n",
       "    <tr>\n",
       "      <th>3</th>\n",
       "      <td>1</td>\n",
       "      <td>89</td>\n",
       "      <td>66</td>\n",
       "      <td>23</td>\n",
       "      <td>94</td>\n",
       "      <td>28.1</td>\n",
       "      <td>0.167</td>\n",
       "      <td>21</td>\n",
       "      <td>0</td>\n",
       "    </tr>\n",
       "    <tr>\n",
       "      <th>4</th>\n",
       "      <td>0</td>\n",
       "      <td>137</td>\n",
       "      <td>40</td>\n",
       "      <td>35</td>\n",
       "      <td>168</td>\n",
       "      <td>43.1</td>\n",
       "      <td>2.288</td>\n",
       "      <td>33</td>\n",
       "      <td>1</td>\n",
       "    </tr>\n",
       "  </tbody>\n",
       "</table>\n",
       "</div>"
      ],
      "text/plain": [
       "   Pregnancies  Glucose  BloodPressure  SkinThickness  Insulin   BMI  \\\n",
       "0            6      148             72             35        0  33.6   \n",
       "1            1       85             66             29        0  26.6   \n",
       "2            8      183             64              0        0  23.3   \n",
       "3            1       89             66             23       94  28.1   \n",
       "4            0      137             40             35      168  43.1   \n",
       "\n",
       "   DiabetesPedigreeFunction  Age  Outcome  \n",
       "0                     0.627   50        1  \n",
       "1                     0.351   31        0  \n",
       "2                     0.672   32        1  \n",
       "3                     0.167   21        0  \n",
       "4                     2.288   33        1  "
      ]
     },
     "execution_count": 3,
     "metadata": {},
     "output_type": "execute_result"
    }
   ],
   "source": [
    "df.head()"
   ]
  },
  {
   "cell_type": "code",
   "execution_count": 4,
   "metadata": {},
   "outputs": [],
   "source": [
    "X = df.drop(columns='Outcome')\r\n",
    "y = df['Outcome']"
   ]
  },
  {
   "cell_type": "code",
   "execution_count": 65,
   "metadata": {},
   "outputs": [
    {
     "data": {
      "text/plain": [
       "(500, 268)"
      ]
     },
     "execution_count": 65,
     "metadata": {},
     "output_type": "execute_result"
    }
   ],
   "source": [
    "list(y).count(0), list(y).count(1)"
   ]
  },
  {
   "cell_type": "code",
   "execution_count": 6,
   "metadata": {},
   "outputs": [],
   "source": [
    "from sklearn.model_selection import train_test_split\r\n",
    "X_train, X_test, y_train, y_test = train_test_split(X, y, test_size = 0.2)"
   ]
  },
  {
   "cell_type": "code",
   "execution_count": 7,
   "metadata": {},
   "outputs": [],
   "source": [
    "from sklearn.preprocessing import StandardScaler\r\n",
    "scaler = StandardScaler()\r\n",
    "X_train = scaler.fit_transform(X_train)\r\n",
    "X_test = scaler.transform(X_test)"
   ]
  },
  {
   "cell_type": "code",
   "execution_count": 12,
   "metadata": {},
   "outputs": [
    {
     "data": {
      "text/plain": [
       "((614, 8), (154, 8), (614,), (154,))"
      ]
     },
     "execution_count": 12,
     "metadata": {},
     "output_type": "execute_result"
    }
   ],
   "source": [
    "X_train.shape, X_test.shape, y_train.shape, y_test.shape"
   ]
  },
  {
   "cell_type": "code",
   "execution_count": 115,
   "metadata": {},
   "outputs": [
    {
     "name": "stdout",
     "output_type": "stream",
     "text": [
      "Model: \"sequential_13\"\n",
      "_________________________________________________________________\n",
      "Layer (type)                 Output Shape              Param #   \n",
      "=================================================================\n",
      "dense_32 (Dense)             (None, 8)                 72        \n",
      "_________________________________________________________________\n",
      "re_lu_19 (ReLU)              (None, 8)                 0         \n",
      "_________________________________________________________________\n",
      "dense_33 (Dense)             (None, 1)                 9         \n",
      "=================================================================\n",
      "Total params: 81\n",
      "Trainable params: 81\n",
      "Non-trainable params: 0\n",
      "_________________________________________________________________\n"
     ]
    }
   ],
   "source": [
    "lam = tf.keras.regularizers.l2(l=0)\r\n",
    "init = tf.initializers.he_normal()\r\n",
    "model = tf.keras.Sequential([\r\n",
    "    tf.keras.layers.Dense(8, input_dim=8, kernel_initializer=init, kernel_regularizer=lam),\r\n",
    "    tf.keras.layers.ReLU(),\r\n",
    "    # tf.keras.layers.Dropout(0.2),\r\n",
    "\r\n",
    "    # tf.keras.layers.Dense(32, kernel_initializer=init, kernel_regularizer=lam),\r\n",
    "    # tf.keras.layers.ReLU(),\r\n",
    "    # # tf.keras.layers.Dropout(0.2),\r\n",
    "\r\n",
    "    tf.keras.layers.Dense(1, activation='sigmoid')\r\n",
    "])\r\n",
    "model.summary()"
   ]
  },
  {
   "cell_type": "code",
   "execution_count": 116,
   "metadata": {},
   "outputs": [],
   "source": [
    "opt = tf.keras.optimizers.SGD(learning_rate=0.1)\r\n",
    "reduce_lr = tf.keras.callbacks.ReduceLROnPlateau(monitor='val_loss', factor=0.1, patience=5, min_lr=0.001)\r\n",
    "# early_stop = tf.keras.callbacks.EarlyStopping(monitor='val_loss', patience=5)\r\n",
    "model.compile(loss='binary_crossentropy', optimizer=opt, metrics=['accuracy'])"
   ]
  },
  {
   "cell_type": "code",
   "execution_count": 117,
   "metadata": {},
   "outputs": [],
   "source": [
    "class_weights = {\r\n",
    "    0 : 0.5,\r\n",
    "    1 : 1.5\r\n",
    "}"
   ]
  },
  {
   "cell_type": "code",
   "execution_count": 118,
   "metadata": {},
   "outputs": [
    {
     "name": "stdout",
     "output_type": "stream",
     "text": [
      "Epoch 1/20\n",
      "35/35 [==============================] - 1s 9ms/step - loss: 0.6215 - accuracy: 0.4323 - val_loss: 0.8380 - val_accuracy: 0.4194\n",
      "Epoch 2/20\n",
      "35/35 [==============================] - 0s 5ms/step - loss: 0.5120 - accuracy: 0.4980 - val_loss: 0.7495 - val_accuracy: 0.5645\n",
      "Epoch 3/20\n",
      "35/35 [==============================] - 0s 7ms/step - loss: 0.4886 - accuracy: 0.6175 - val_loss: 0.7076 - val_accuracy: 0.5968\n",
      "Epoch 4/20\n",
      "35/35 [==============================] - 0s 6ms/step - loss: 0.4522 - accuracy: 0.6681 - val_loss: 0.6974 - val_accuracy: 0.6290\n",
      "Epoch 5/20\n",
      "35/35 [==============================] - 0s 6ms/step - loss: 0.4403 - accuracy: 0.7092 - val_loss: 0.6590 - val_accuracy: 0.6774\n",
      "Epoch 6/20\n",
      "35/35 [==============================] - 0s 6ms/step - loss: 0.4190 - accuracy: 0.6932 - val_loss: 0.6758 - val_accuracy: 0.6290\n",
      "Epoch 7/20\n",
      "35/35 [==============================] - 0s 7ms/step - loss: 0.4229 - accuracy: 0.7011 - val_loss: 0.6325 - val_accuracy: 0.6935\n",
      "Epoch 8/20\n",
      "35/35 [==============================] - 0s 6ms/step - loss: 0.4361 - accuracy: 0.7051 - val_loss: 0.6098 - val_accuracy: 0.7097\n",
      "Epoch 9/20\n",
      "35/35 [==============================] - 0s 6ms/step - loss: 0.4318 - accuracy: 0.7281 - val_loss: 0.6242 - val_accuracy: 0.7097\n",
      "Epoch 10/20\n",
      "35/35 [==============================] - 0s 6ms/step - loss: 0.3874 - accuracy: 0.7437 - val_loss: 0.5913 - val_accuracy: 0.7581\n",
      "Epoch 11/20\n",
      "35/35 [==============================] - 0s 7ms/step - loss: 0.4367 - accuracy: 0.6848 - val_loss: 0.6049 - val_accuracy: 0.7097\n",
      "Epoch 12/20\n",
      "35/35 [==============================] - 0s 6ms/step - loss: 0.4136 - accuracy: 0.6977 - val_loss: 0.5861 - val_accuracy: 0.7581\n",
      "Epoch 13/20\n",
      "35/35 [==============================] - 0s 6ms/step - loss: 0.4130 - accuracy: 0.7356 - val_loss: 0.5794 - val_accuracy: 0.7581\n",
      "Epoch 14/20\n",
      "35/35 [==============================] - 0s 7ms/step - loss: 0.4072 - accuracy: 0.7422 - val_loss: 0.5870 - val_accuracy: 0.7419\n",
      "Epoch 15/20\n",
      "35/35 [==============================] - 0s 6ms/step - loss: 0.4132 - accuracy: 0.7223 - val_loss: 0.5744 - val_accuracy: 0.7742\n",
      "Epoch 16/20\n",
      "35/35 [==============================] - 0s 5ms/step - loss: 0.4306 - accuracy: 0.6937 - val_loss: 0.5782 - val_accuracy: 0.7742\n",
      "Epoch 17/20\n",
      "35/35 [==============================] - 0s 5ms/step - loss: 0.4236 - accuracy: 0.7211 - val_loss: 0.5640 - val_accuracy: 0.7581\n",
      "Epoch 18/20\n",
      "35/35 [==============================] - 0s 5ms/step - loss: 0.4111 - accuracy: 0.7239 - val_loss: 0.5682 - val_accuracy: 0.7419\n",
      "Epoch 19/20\n",
      "35/35 [==============================] - 0s 6ms/step - loss: 0.4214 - accuracy: 0.6870 - val_loss: 0.5868 - val_accuracy: 0.7419\n",
      "Epoch 20/20\n",
      "35/35 [==============================] - 0s 6ms/step - loss: 0.3905 - accuracy: 0.7482 - val_loss: 0.5530 - val_accuracy: 0.7581\n"
     ]
    }
   ],
   "source": [
    "history = model.fit(X_train, y_train, epochs=20, batch_size=16, validation_split=0.1, shuffle=True, callbacks=[reduce_lr], class_weight=class_weights)"
   ]
  },
  {
   "cell_type": "code",
   "execution_count": 119,
   "metadata": {},
   "outputs": [],
   "source": [
    "y_pred = model.predict(X_test)"
   ]
  },
  {
   "cell_type": "code",
   "execution_count": 120,
   "metadata": {},
   "outputs": [],
   "source": [
    "pred = []\r\n",
    "for i in range(len(y_pred)):\r\n",
    "    if y_pred[i] < 0.5:\r\n",
    "        pred.append(0)\r\n",
    "    else:\r\n",
    "        pred.append(1)"
   ]
  },
  {
   "cell_type": "code",
   "execution_count": 121,
   "metadata": {},
   "outputs": [
    {
     "name": "stdout",
     "output_type": "stream",
     "text": [
      "Accuracy is: 77.92207792207793\n"
     ]
    }
   ],
   "source": [
    "from sklearn.metrics import accuracy_score, confusion_matrix\r\n",
    "a = accuracy_score(pred, y_test)\r\n",
    "print('Accuracy is:', a*100)"
   ]
  },
  {
   "cell_type": "code",
   "execution_count": 122,
   "metadata": {},
   "outputs": [
    {
     "data": {
      "text/plain": [
       "<AxesSubplot:>"
      ]
     },
     "execution_count": 122,
     "metadata": {},
     "output_type": "execute_result"
    },
    {
     "data": {
      "image/png": "[encoded data removed]",
      "text/plain": [
       "<Figure size 432x288 with 2 Axes>"
      ]
     },
     "metadata": {
      "needs_background": "light"
     },
     "output_type": "display_data"
    }
   ],
   "source": [
    "sns.heatmap(confusion_matrix(pred, y_test), annot=True, fmt='g', cmap='Greens')"
   ]
  },
  {
   "cell_type": "code",
   "execution_count": 123,
   "metadata": {},
   "outputs": [
    {
     "data": {
      "image/png": "[encoded data removed]",
      "text/plain": [
       "<Figure size 432x288 with 1 Axes>"
      ]
     },
     "metadata": {
      "needs_background": "light"
     },
     "output_type": "display_data"
    }
   ],
   "source": [
    "plt.plot(history.history['accuracy'])\r\n",
    "plt.plot(history.history['val_accuracy'])\r\n",
    "plt.title('model accuracy')\r\n",
    "plt.ylabel('accuracy')\r\n",
    "plt.xlabel('epoch')\r\n",
    "plt.legend(['train', 'val'], loc='upper left')\r\n",
    "plt.show()"
   ]
  },
  {
   "cell_type": "code",
   "execution_count": 124,
   "metadata": {},
   "outputs": [
    {
     "data": {
      "image/png": "[encoded data removed]",
      "text/plain": [
       "<Figure size 432x288 with 1 Axes>"
      ]
     },
     "metadata": {
      "needs_background": "light"
     },
     "output_type": "display_data"
    }
   ],
   "source": [
    "plt.plot(history.history['loss'])\r\n",
    "plt.plot(history.history['val_loss'])\r\n",
    "plt.title('model loss')\r\n",
    "plt.ylabel('loss')\r\n",
    "plt.xlabel('epoch')\r\n",
    "plt.legend(['train', 'val'], loc='upper left')\r\n",
    "plt.show()"
   ]
  },
  {
   "cell_type": "code",
   "execution_count": null,
   "metadata": {},
   "outputs": [],
   "source": []
  },
  {
   "cell_type": "code",
   "execution_count": null,
   "metadata": {},
   "outputs": [],
   "source": []
  }
 ],
 "metadata": {
  "interpreter": {
   "hash": "8edf8cbb509fdf3d46e061f30af3d9278aa0b7efb734bc4d8f02fc9816eea4c1"
  },
  "kernelspec": {
   "display_name": "Python 3.8.0 64-bit ('tf2.4': conda)",
   "name": "python3"
  },
  "language_info": {
   "codemirror_mode": {
    "name": "ipython",
    "version": 3
   },
   "file_extension": ".py",
   "mimetype": "text/x-python",
   "name": "python",
   "nbconvert_exporter": "python",
   "pygments_lexer": "ipython3",
   "version": "3.8.0"
  },
  "orig_nbformat": 4
 },
 "nbformat": 4,
 "nbformat_minor": 2
}